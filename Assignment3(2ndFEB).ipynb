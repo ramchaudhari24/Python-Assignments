{
 "cells": [
  {
   "cell_type": "markdown",
   "id": "6686b043-207b-412b-a227-348982ef31ad",
   "metadata": {},
   "source": [
    "Assignment 3 - 2nd Feb 2023"
   ]
  },
  {
   "cell_type": "code",
   "execution_count": 1,
   "id": "caef598a-170d-4c00-b105-0a6acad9215b",
   "metadata": {
    "tags": []
   },
   "outputs": [
    {
     "name": "stdout",
     "output_type": "stream",
     "text": [
      "1\n",
      "2\n",
      "3\n",
      "4\n",
      "5\n",
      "6\n",
      "7\n",
      "8\n",
      "9\n"
     ]
    }
   ],
   "source": [
    "# #Q1]\n",
    "\n",
    "# A for loop is used when we know how many times we need to iterate over a block of code. \n",
    "# It works by initializing a variable to a certain value and then incrementing or decrementing it with each iteration until a certain condition is met.\n",
    "\n",
    "for i in range(1,10):\n",
    "    print(i)\n",
    "\n"
   ]
  },
  {
   "cell_type": "code",
   "execution_count": 2,
   "id": "d6122bd1-3736-409b-af82-d8ecda17d70b",
   "metadata": {
    "tags": []
   },
   "outputs": [
    {
     "name": "stdout",
     "output_type": "stream",
     "text": [
      "0\n",
      "1\n",
      "2\n",
      "3\n",
      "4\n",
      "5\n",
      "6\n",
      "7\n",
      "8\n",
      "9\n"
     ]
    }
   ],
   "source": [
    "# A while loop is used when we don't know how many times we need to iterate over a block of code.\n",
    "# It works by repeatedly executing a block of code as long as a certain condition is true.\n",
    "\n",
    "i =0\n",
    "while(i<10):\n",
    "    print(i)\n",
    "    i =i+1"
   ]
  },
  {
   "cell_type": "code",
   "execution_count": 11,
   "id": "bbf38200-9259-4f2b-ab23-cd9b2236e17f",
   "metadata": {
    "tags": []
   },
   "outputs": [
    {
     "name": "stdout",
     "output_type": "stream",
     "text": [
      "The sum of first 10 natural numbers using for is :  55\n",
      "The product of first 10 natural numbers using for is :  3628800\n",
      "______________________________________\n",
      "\n",
      "The sum of first 10 natural numbers using for is :  55\n",
      "The product of first 10 natural numbers using for is :  3628800\n"
     ]
    }
   ],
   "source": [
    "#Q2]\n",
    "\n",
    "# For Loop\n",
    "\n",
    "sum = 0\n",
    "product = 1\n",
    "\n",
    "for i in range(1, 11) :\n",
    "    sum = sum + i \n",
    "    product = product * i\n",
    "    \n",
    "print(\"The sum of first 10 natural numbers using for is : \", sum)\n",
    "print(\"The product of first 10 natural numbers using for is : \", product)\n",
    "\n",
    "print(\"______________________________________\\n\")\n",
    "      \n",
    "# While loop\n",
    "      \n",
    "sum = 0 \n",
    "product = 1\n",
    "i = 1      \n",
    "while (i < 11) :\n",
    "    sum = sum + i \n",
    "    product = product * i\n",
    "    i = i + 1\n",
    "\n",
    "print(\"The sum of first 10 natural numbers using for is : \", sum)\n",
    "print(\"The product of first 10 natural numbers using for is : \", product)"
   ]
  },
  {
   "cell_type": "code",
   "execution_count": 14,
   "id": "2915589b-4883-4bb2-bb36-30a639687a7c",
   "metadata": {
    "tags": []
   },
   "outputs": [
    {
     "name": "stdin",
     "output_type": "stream",
     "text": [
      "Enter the units consumed:  310\n"
     ]
    },
    {
     "name": "stdout",
     "output_type": "stream",
     "text": [
      "You have consumed total 310 units. \n",
      "Hence, your Electricity bill is : Rs. 2250.0\n"
     ]
    }
   ],
   "source": [
    "#Q3]\n",
    "\n",
    "units = int(input(\"Enter the units consumed: \"))\n",
    "\n",
    "if units <= 100 :\n",
    "    bill = units * 4.5\n",
    "elif units <= 200 :\n",
    "    bill = 100 * 4.5 + (units - 100) * 6\n",
    "elif units <= 300:\n",
    "    bill = 100 * 4.5 + 100 * 6 + (units - 200) * 10\n",
    "else:\n",
    "    bill = 100 * 4.5 + 100 * 6 + 100 * 10 + (units - 300) * 20\n",
    "    \n",
    "print(\"You have consumed total\", units, \"units. \\nHence, your Electricity bill is : Rs.\", bill)"
   ]
  },
  {
   "cell_type": "code",
   "execution_count": 27,
   "id": "b3bacbe6-3cf1-4bbb-8624-c6048ead5fbf",
   "metadata": {
    "tags": []
   },
   "outputs": [
    {
     "name": "stdout",
     "output_type": "stream",
     "text": [
      "The numbers whose cubes are divisible by 4 or 5 are: [2, 4, 5, 6, 8, 10, 12, 14, 15, 16, 18, 20, 22, 24, 25, 26, 28, 30, 32, 34, 35, 36, 38, 40, 42, 44, 45, 46, 48, 50, 52, 54, 55, 56, 58, 60, 62, 64, 65, 66, 68, 70, 72, 74, 75, 76, 78, 80, 82, 84, 85, 86, 88, 90, 92, 94, 95, 96, 98, 100]\n",
      "_____________________________\n",
      "\n",
      "The numbers whose cubes are divisible by 4 or 5 are: [2, 4, 5, 6, 8, 10, 12, 14, 15, 16, 18, 20, 22, 24, 25, 26, 28, 30, 32, 34, 35, 36, 38, 40, 42, 44, 45, 46, 48, 50, 52, 54, 55, 56, 58, 60, 62, 64, 65, 66, 68, 70, 72, 74, 75, 76, 78, 80, 82, 84, 85, 86, 88, 90, 92, 94, 95, 96, 98, 100]\n"
     ]
    }
   ],
   "source": [
    "#Q4]\n",
    "\n",
    "# For Loop\n",
    "\n",
    "cubes = []\n",
    "\n",
    "for i in range(1,101) :\n",
    "    cube = i ** 3\n",
    "    if cube % 4 == 0 or cube % 5 == 0 :\n",
    "        cubes.append(i)\n",
    "print(\"The numbers whose cubes are divisible by 4 or 5 are:\" ,cubes)\n",
    "\n",
    "print(\"_____________________________\\n\")\n",
    "\n",
    "# While Loop\n",
    "\n",
    "cubes = [] \n",
    "i = 1\n",
    "while i <= 100:\n",
    "    cube = i ** 3\n",
    "    if cube % 4 == 0 or cube % 5 == 0 :\n",
    "        cubes.append(i)\n",
    "    i = i + 1\n",
    "    \n",
    "print(\"The numbers whose cubes are divisible by 4 or 5 are:\" ,cubes)"
   ]
  },
  {
   "cell_type": "code",
   "execution_count": 32,
   "id": "4c4f0858-7ea1-41fb-ad76-19e6d536eb9e",
   "metadata": {
    "tags": []
   },
   "outputs": [
    {
     "name": "stdout",
     "output_type": "stream",
     "text": [
      "Given String : I want to become a data scientist\n",
      "Number of vowels in the String : 12\n"
     ]
    }
   ],
   "source": [
    "#Q5]\n",
    " #program to filter count vowels in the below-given string.\n",
    "    \n",
    "string = \"I want to become a data scientist\"\n",
    "vowels = \"aeiouAEIOU\"\n",
    "count = 0\n",
    "\n",
    "for char in string :\n",
    "    if char in vowels :\n",
    "        count = count + 1\n",
    "\n",
    "print(\"Given String :\", string)\n",
    "print(\"Number of vowels in the String :\", count)\n",
    "\n",
    "\n"
   ]
  }
 ],
 "metadata": {
  "kernelspec": {
   "display_name": "Python 3 (ipykernel)",
   "language": "python",
   "name": "python3"
  },
  "language_info": {
   "codemirror_mode": {
    "name": "ipython",
    "version": 3
   },
   "file_extension": ".py",
   "mimetype": "text/x-python",
   "name": "python",
   "nbconvert_exporter": "python",
   "pygments_lexer": "ipython3",
   "version": "3.10.4"
  }
 },
 "nbformat": 4,
 "nbformat_minor": 5
}
