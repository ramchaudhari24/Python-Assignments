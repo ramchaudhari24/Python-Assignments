{
 "cells": [
  {
   "cell_type": "markdown",
   "id": "3ef79a35-75e6-497f-a882-d7edfac26158",
   "metadata": {},
   "source": [
    "###ASSIGNMENT 1\n"
   ]
  },
  {
   "cell_type": "code",
   "execution_count": null,
   "id": "66bc7480-b146-4e8d-8884-da37f6d103ad",
   "metadata": {
    "tags": []
   },
   "outputs": [],
   "source": [
    "Q1] Python programming language was developed by Guido van Rossum and released the first version in February 1991.\n",
    "\n",
    "Q2] Object oriented programing and structured programing.\n",
    "\n",
    "Q3] Yes it is a case sensitive.\n",
    "\n",
    "Q4] The correct extension for a Python file is \".py\".\n",
    "\n",
    "Q5] Python code is generally interpreted, meaning that it is executed line by line by the Python interpreter. \n",
    "    When you run a Python program, the interpreter reads each line of code, and immediately executes it.\n",
    "\n",
    "Q6] 1. \"for\" loop and \"while\" loop.\n",
    "    2.  Conditional Statements.\n",
    "\n",
    "For eg.,\n",
    "\n",
    "if (condition):\n",
    "\n",
    "# Statement 1\n",
    "\n",
    "else:\n",
    "\n",
    "# Statement 2\n",
    "\n",
    "Q7] In Python, the \"#\" character is used to indicate single-line comments. \n",
    "    When the \"#\" character is encountered in a line of code, everything after it on that line is considered a comment.\n",
    "    \n",
    "Q8] The function sys.version can help us to find the version of python that we are currently working on.\n",
    "\n",
    "Q9] Lambda.\n",
    "\n",
    "Q10] Preferred Installer Program.\n",
    "\n",
    "Q11] bool()\n",
    "            This function takes a value as an argument and returns either True or False. It gives True if the value is not empty/zero/False. Or else it returns False.\n",
    "\n",
    "     chr()\n",
    "            This function takes the Unicode value as an input and returns the respective character.\n",
    "\n",
    "     dict()\n",
    "            This function converts the input into the dictionary data type and returns it.\n",
    "        \n",
    "Q12] 79 characters.\n",
    "\n",
    "Q13] 1. Simple and Easy to learn\n",
    "     2. Portable and Extensible\n",
    "     3. Object-Oriented Programming\n",
    "     4. Artificial Intelligence\n",
    "     5. Big Data\n",
    "        \n",
    "Q14] Memory management in Python is handled automatically through a combination of techniques, including reference counting and a garbage collector.\n",
    "\n",
    "Q15] First, we need to locate where the python is being installed after downloading it. \n",
    "     Press WINDOWS key and search for “Python”, you will get something like this:Click on open file location and you will be in a location where Python is installed, \n",
    "     Copy the location path from the top by clicking over it. Now, we have to add the above-copied path as a variable so that windows can recognize. \n",
    "     Search for “Environmental Variables”, you will see something like this: Click on that( Now click the “Environmental Variables” button.\n",
    "                                                                                           \n",
    "Q16] Indentation refers to the spaces at the beginning of a code line. \n",
    "     Where in other programming languages the indentation in code is for readability only, for Python is very important. \n",
    "     Python uses indentation to indicate a block of code.        \n",
    "    \n",
    "                                                                                        "
   ]
  }
 ],
 "metadata": {
  "kernelspec": {
   "display_name": "Python 3 (ipykernel)",
   "language": "python",
   "name": "python3"
  },
  "language_info": {
   "codemirror_mode": {
    "name": "ipython",
    "version": 3
   },
   "file_extension": ".py",
   "mimetype": "text/x-python",
   "name": "python",
   "nbconvert_exporter": "python",
   "pygments_lexer": "ipython3",
   "version": "3.10.4"
  }
 },
 "nbformat": 4,
 "nbformat_minor": 5
}
