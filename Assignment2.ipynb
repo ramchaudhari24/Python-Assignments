{
 "cells": [
  {
   "cell_type": "code",
   "execution_count": 14,
   "id": "87a6f2eb-1ffd-4864-a995-0a0cb1653c1c",
   "metadata": {},
   "outputs": [],
   "source": [
    "#Assignment 2"
   ]
  },
  {
   "cell_type": "code",
   "execution_count": 22,
   "id": "3a0b76dd-45e4-4463-bb1e-0c087d9caa58",
   "metadata": {},
   "outputs": [
    {
     "name": "stdin",
     "output_type": "stream",
     "text": [
      "Enter you marks :  80\n"
     ]
    },
    {
     "name": "stdout",
     "output_type": "stream",
     "text": [
      "You got C Grade\n"
     ]
    }
   ],
   "source": [
    "#Q1]\n",
    "\n",
    "a = int(input(\"Enter you marks : \"))\n",
    "if a>90 :\n",
    "    print(\"You got A Grade\")\n",
    "elif a<=90 and a>80 : \n",
    "    print(\"You got B Grade\")\n",
    "elif a<=80 and a>60 :\n",
    "    print(\"You got C Grade\")\n",
    "else  :\n",
    "    print(\"You got D Grade\")"
   ]
  },
  {
   "cell_type": "code",
   "execution_count": 23,
   "id": "df480928-1444-489a-b35e-4981bff6dc14",
   "metadata": {},
   "outputs": [
    {
     "name": "stdin",
     "output_type": "stream",
     "text": [
      "Enter the cost of bike :  30000\n"
     ]
    },
    {
     "name": "stdout",
     "output_type": "stream",
     "text": [
      "The Road Tax to be paid is 5%\n"
     ]
    }
   ],
   "source": [
    "#Q2]\n",
    "\n",
    "cost = int(input(\"Enter the cost of bike : \"))\n",
    "if cost > 100000 :\n",
    "    print(\"The Road Tax to be paid is 15%\")\n",
    "elif cost <= 100000 and cost > 50000 :\n",
    "    print(\"The Road Tax to be paid is 10%\")\n",
    "else :\n",
    "    print(\"The Road Tax to be paid is 5%\")"
   ]
  },
  {
   "cell_type": "code",
   "execution_count": 25,
   "id": "27d6215a-c9e9-4cfd-85d7-4dce89ea6b62",
   "metadata": {},
   "outputs": [
    {
     "name": "stdin",
     "output_type": "stream",
     "text": [
      "Enter your city from any of these Delhi, Agra, Jaipur :  Delhi\n"
     ]
    },
    {
     "name": "stdout",
     "output_type": "stream",
     "text": [
      "Monument of your city is Red Fort\n"
     ]
    }
   ],
   "source": [
    "#Q3]\n",
    "\n",
    "city = input(\"Enter your city from any of these Delhi, Agra, Jaipur : \")\n",
    "if city == \"Delhi\" :\n",
    "    print(\"Monument of your city is Red Fort\")\n",
    "if city == \"Agra\" :\n",
    "    print(\"Monument of your city is Tajmahal\")\n",
    "if city == \"Jaipur\":\n",
    "    print(\"Monument of your city is Jal Mahal\")"
   ]
  },
  {
   "cell_type": "code",
   "execution_count": 11,
   "id": "c2fa1fe9-2a25-419a-b7ab-31790a4c4684",
   "metadata": {},
   "outputs": [
    {
     "name": "stdin",
     "output_type": "stream",
     "text": [
      "Enter a number :  3333\n"
     ]
    },
    {
     "name": "stdout",
     "output_type": "stream",
     "text": [
      "1111.0\n",
      "370.3333333333333\n",
      "123.44444444444444\n",
      "41.148148148148145\n",
      "13.716049382716049\n",
      "4.57201646090535\n",
      "The number is divisible 6 times\n"
     ]
    }
   ],
   "source": [
    "#Q4]\n",
    "#To check how many times a number less than or equal to 10 is divisible by 3\n",
    "\n",
    "\n",
    "num= int(input(\"Enter a number : \"))\n",
    "counter = 0\n",
    "\n",
    "while num > 10 :\n",
    "    num = num / 3\n",
    "    print(num)\n",
    "    counter = counter + 1\n",
    "\n",
    "print(\"The number is divisible\",counter,\"times\")\n"
   ]
  },
  {
   "cell_type": "code",
   "execution_count": 1,
   "id": "6d14c9a9-0885-47cd-b832-708d110d4f48",
   "metadata": {},
   "outputs": [
    {
     "name": "stdout",
     "output_type": "stream",
     "text": [
      "1\n",
      "2\n",
      "3\n",
      "4\n",
      "5\n",
      "6\n",
      "7\n",
      "8\n",
      "9\n",
      "10\n",
      "While loop condition is now False !\n"
     ]
    }
   ],
   "source": [
    "#Q5] \n",
    "\n",
    "# In Python, a while loop is used to repeatedly execute a block of code as long as a certain condition is true.\n",
    "# It is a pre-test loop, which means that the condition is tested at the beginning of each iteration.\n",
    "# If the condition is true, the loop body will be executed, and then the condition will be tested again.\n",
    "# The loop continues until the condition becomes false.\n",
    "\n",
    "# The syntax of a while loop in Python is as follows :\n",
    "# while condition:\n",
    "#     # code to be executed repeatedly while condition is true\n",
    "\n",
    "# Here, the condition is a Boolean expression that evaluates to True or False. The code block inside the loop is executed repeatedly as long as the condition is true.\n",
    "# If the condition becomes false, the loop is exited and the program continues to execute the code that comes after the loop.\n",
    "\n",
    "# Below is an example of a while loop that prints out the numbers 1 to 10 :\n",
    "    \n",
    "count = 1   \n",
    "while count <= 10 :   \n",
    "    print(count)  \n",
    "    count = count + 1  \n",
    "print(\"While loop condition is now False !\")"
   ]
  },
  {
   "cell_type": "code",
   "execution_count": 5,
   "id": "893eb2c5-c235-4e23-abc2-1b2f6de49cee",
   "metadata": {},
   "outputs": [
    {
     "name": "stdout",
     "output_type": "stream",
     "text": [
      "Pattern 1 : \n",
      "* \n",
      "* * \n",
      "* * * \n",
      "* * * * \n",
      "* * * * * \n",
      "\n",
      "Pattern 2 : \n",
      "* * * * * \n",
      "* * * * \n",
      "* * * \n",
      "* * \n",
      "* \n",
      "\n",
      "Pattern 3 : \n",
      "1 \n",
      "2 2 \n",
      "3 3 3 \n",
      "4 4 4 4 \n",
      "5 5 5 5 5 \n"
     ]
    }
   ],
   "source": [
    "#Q6]\n",
    "\n",
    " # Pattern 1 :\n",
    "    \n",
    "i = 1                                       \n",
    "print(\"Pattern 1 : \")\n",
    "while i <= 5 :                         \n",
    "    j = 1  \n",
    "    while j <= i :\n",
    "        print(\"*\", end = \" \")                \n",
    "        j = j + 1                                       \n",
    "    print()                                                \n",
    "    i = i + 1     \n",
    "    \n",
    "    \n",
    "    \n",
    " # Pattern 2 :\n",
    "\n",
    "i = 5                                      \n",
    "print(\"\\nPattern 2 : \")\n",
    "while i >= 1 :                          \n",
    "    j = 1                                       \n",
    "    while j <= i :                             \n",
    "        print(\"*\", end = \" \")                  \n",
    "        j = j + 1                                          \n",
    "    print()                                                  \n",
    "    i = i - 1                                                       \n",
    "\n",
    "\n",
    "\n",
    "\n",
    " # Pattern 3 :\n",
    "    \n",
    "i = 1  \n",
    "print(\"\\nPattern 3 : \")\n",
    "while i <= 5 :                        \n",
    "    j = 1                                    \n",
    "    while j <= i :                          \n",
    "        print(i, end = \" \")                 \n",
    "        j = j + 1                                   \n",
    "    print()                                           \n",
    "    i = i + 1      "
   ]
  },
  {
   "cell_type": "code",
   "execution_count": 6,
   "id": "33025b6d-6286-4242-8cfe-2a2b2c87f0cd",
   "metadata": {},
   "outputs": [
    {
     "name": "stdout",
     "output_type": "stream",
     "text": [
      "10\n",
      "9\n",
      "8\n",
      "7\n",
      "6\n",
      "5\n",
      "4\n",
      "3\n",
      "2\n",
      "1\n"
     ]
    }
   ],
   "source": [
    "#Q7]\n",
    "\n",
    "# To reverse a while loop to display numbers from 10 to 1\n",
    "\n",
    "i = 10\n",
    "while i > 0:\n",
    "    print(i)\n",
    "    i = i - 1"
   ]
  },
  {
   "cell_type": "markdown",
   "id": "3a33e89b-6117-4889-bf2f-f1662f8c998f",
   "metadata": {},
   "source": [
    "Q8] Same as Question no. 7"
   ]
  }
 ],
 "metadata": {
  "kernelspec": {
   "display_name": "Python 3 (ipykernel)",
   "language": "python",
   "name": "python3"
  },
  "language_info": {
   "codemirror_mode": {
    "name": "ipython",
    "version": 3
   },
   "file_extension": ".py",
   "mimetype": "text/x-python",
   "name": "python",
   "nbconvert_exporter": "python",
   "pygments_lexer": "ipython3",
   "version": "3.10.8"
  }
 },
 "nbformat": 4,
 "nbformat_minor": 5
}
